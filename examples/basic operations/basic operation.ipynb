{
 "cells": [
  {
   "cell_type": "markdown",
   "id": "03497895-3471-4a06-95b2-874e6275b973",
   "metadata": {},
   "source": [
    "## 1. Importing and Initializing\n",
    "   \n",
    "First, import the VectorDBManager class from ragit and initialize it:"
   ]
  },
  {
   "cell_type": "code",
   "execution_count": 20,
   "id": "809d3259-feb5-4e78-966d-d521f932b71c",
   "metadata": {},
   "outputs": [
    {
     "name": "stderr",
     "output_type": "stream",
     "text": [
      "2025-02-15 14:02:50,864 - INFO - Anonymized telemetry enabled. See                     https://docs.trychroma.com/telemetry for more information.\n",
      "2025-02-15 14:02:51,353 - INFO - Use pytorch device_name: cpu\n",
      "2025-02-15 14:02:51,354 - INFO - Load pretrained SentenceTransformer: all-mpnet-base-v2\n"
     ]
    }
   ],
   "source": [
    "from ragit import VectorDBManager\n",
    "\n",
    "# Initialize the vector database manager with a custom persistence directory and model\n",
    "db_manager = VectorDBManager(\n",
    "    persist_directory=\"./vector_db\", \n",
    "    provider=\"sentence_transformer\", \n",
    "    model_name=\"all-mpnet-base-v2\" \n",
    ")"
   ]
  },
  {
   "cell_type": "code",
   "execution_count": null,
   "id": "48bd044b-e62c-49d2-bc74-6d752372c64a",
   "metadata": {},
   "outputs": [],
   "source": []
  },
  {
   "cell_type": "markdown",
   "id": "747e144b-7d2d-45e8-8dfb-613c0f8dc783",
   "metadata": {},
   "source": [
    "## 2. Creating a Database\n",
    "   \n",
    "Create a new collection (named my_collection) using your CSV file. In this example, the distance_metric is set to \"cosine\"(available options: l2, cosine, ip, l1) :"
   ]
  },
  {
   "cell_type": "code",
   "execution_count": 21,
   "id": "fcb9375b-dd3d-4d0a-a0c2-37a095769ada",
   "metadata": {},
   "outputs": [
    {
     "data": {
      "application/vnd.jupyter.widget-view+json": {
       "model_id": "4d05c77ef2e94ceaad80172da0c08ff8",
       "version_major": 2,
       "version_minor": 0
      },
      "text/plain": [
       "Batches:   0%|          | 0/1 [00:00<?, ?it/s]"
      ]
     },
     "metadata": {},
     "output_type": "display_data"
    },
    {
     "name": "stderr",
     "output_type": "stream",
     "text": [
      "2025-02-15 14:03:09,281 - INFO - Successfully created collection 'my_collection'\n"
     ]
    },
    {
     "data": {
      "text/plain": [
       "True"
      ]
     },
     "execution_count": 21,
     "metadata": {},
     "output_type": "execute_result"
    }
   ],
   "source": [
    "db_manager.create_database(\n",
    "    csv_path=\"data.csv\", \n",
    "    collection_name=\"my_collection\",\n",
    "    distance_metric=\"cosine\" \n",
    ")"
   ]
  },
  {
   "cell_type": "code",
   "execution_count": null,
   "id": "ce0be4fb-5f5f-40a9-bd6e-ab9f63af6bd8",
   "metadata": {},
   "outputs": [],
   "source": []
  },
  {
   "cell_type": "markdown",
   "id": "10df5f82-f185-4f9d-8025-7784a389dee9",
   "metadata": {},
   "source": [
    "## Reloading Your Database\n",
    "\n",
    "Once your database is created and your data is added, simply load it for later use by specifying the same folder:"
   ]
  },
  {
   "cell_type": "code",
   "execution_count": 23,
   "id": "69597afa-d525-4223-b327-780586f0d919",
   "metadata": {},
   "outputs": [
    {
     "name": "stderr",
     "output_type": "stream",
     "text": [
      "2025-02-15 14:03:20,195 - INFO - Use pytorch device_name: cpu\n",
      "2025-02-15 14:03:20,198 - INFO - Load pretrained SentenceTransformer: all-mpnet-base-v2\n"
     ]
    }
   ],
   "source": [
    "from ragit import VectorDBManager\n",
    "\n",
    "db_manager = VectorDBManager(\n",
    "    persist_directory=\"./vector_db\",\n",
    "    provider=\"sentence_transformer\",\n",
    "    model_name=\"all-mpnet-base-v2\"\n",
    ")"
   ]
  },
  {
   "cell_type": "code",
   "execution_count": null,
   "id": "4e3322ae-2a94-45e2-b4eb-fe1e35bf8c12",
   "metadata": {},
   "outputs": [],
   "source": []
  },
  {
   "cell_type": "markdown",
   "id": "3e2a04c0-8c88-4ed2-9ab7-501aee636396",
   "metadata": {},
   "source": [
    "## 3. Adding a Single Entry\n",
    "   \n",
    "Add an individual entry to the collection:"
   ]
  },
  {
   "cell_type": "code",
   "execution_count": 24,
   "id": "629ba1fa-9721-421f-af9b-673991bfde78",
   "metadata": {},
   "outputs": [
    {
     "data": {
      "application/vnd.jupyter.widget-view+json": {
       "model_id": "0262580c31714e298152fa19b67fda59",
       "version_major": 2,
       "version_minor": 0
      },
      "text/plain": [
       "Batches:   0%|          | 0/1 [00:00<?, ?it/s]"
      ]
     },
     "metadata": {},
     "output_type": "display_data"
    },
    {
     "name": "stderr",
     "output_type": "stream",
     "text": [
      "2025-02-15 14:03:28,383 - INFO - Successfully added entry with ID 101\n"
     ]
    },
    {
     "data": {
      "text/plain": [
       "True"
      ]
     },
     "execution_count": 24,
     "metadata": {},
     "output_type": "execute_result"
    }
   ],
   "source": [
    "db_manager.add_single_row(\n",
    "    id_=\"101\",\n",
    "    text=\"This is a new test entry for the database.\",\n",
    "    collection_name=\"my_collection\"\n",
    ")"
   ]
  },
  {
   "cell_type": "code",
   "execution_count": null,
   "id": "3c975689-2dc0-43b2-9ab0-bfbbc5509332",
   "metadata": {},
   "outputs": [],
   "source": []
  },
  {
   "cell_type": "markdown",
   "id": "178d589d-400e-4f15-94b8-efa8a3686d10",
   "metadata": {},
   "source": [
    "## 4. Adding Multiple Entries from CSV\n",
    "   \n",
    "You can also add multiple entries from a CSV file. This function skips any entries that already exist in the collection:"
   ]
  },
  {
   "cell_type": "code",
   "execution_count": 25,
   "id": "8dc7d3a8-654f-4d32-8c00-bd04d4e8e56b",
   "metadata": {},
   "outputs": [
    {
     "name": "stderr",
     "output_type": "stream",
     "text": [
      "2025-02-15 14:03:37,190 - INFO - Added 0 new entries to 'my_collection'\n"
     ]
    },
    {
     "name": "stdout",
     "output_type": "stream",
     "text": [
      "Added 0 new entries\n"
     ]
    }
   ],
   "source": [
    "stats = db_manager.add_values_from_csv(\n",
    "    csv_path=\"data.csv\",\n",
    "    collection_name=\"my_collection\"\n",
    ")\n",
    "print(f\"Added {stats['new_entries_added']} new entries\")"
   ]
  },
  {
   "cell_type": "code",
   "execution_count": null,
   "id": "872db469-5482-4e21-afc3-9b710ff355e2",
   "metadata": {},
   "outputs": [],
   "source": []
  },
  {
   "cell_type": "markdown",
   "id": "d49870a0-4d63-4a57-b4fd-75a8b9588201",
   "metadata": {},
   "source": [
    "## 5. Retrieving Collection Information\n",
    "\n",
    "Fetch and display information about your collection:"
   ]
  },
  {
   "cell_type": "code",
   "execution_count": 26,
   "id": "20be2238-eaf9-451f-9fc1-55fb23e73720",
   "metadata": {},
   "outputs": [
    {
     "name": "stdout",
     "output_type": "stream",
     "text": [
      "Collection size: 11 entries\n"
     ]
    }
   ],
   "source": [
    "info = db_manager.get_collection_info(\"my_collection\")\n",
    "print(f\"Collection size: {info['count']} entries\")"
   ]
  },
  {
   "cell_type": "code",
   "execution_count": null,
   "id": "732eee17-7dcf-49c4-a8b9-950b163fc699",
   "metadata": {},
   "outputs": [],
   "source": []
  },
  {
   "cell_type": "markdown",
   "id": "4fb168a9-bcef-445f-8d54-b271a4d04ba3",
   "metadata": {},
   "source": [
    "## 6. Performing a Similarity Search\n",
    "\n",
    "Find texts that are similar to your query. In this example, the query text is \"ai\", and the search is filtered using the string \"Artificial intelligence\". The top 2 results are returned:"
   ]
  },
  {
   "cell_type": "code",
   "execution_count": 27,
   "id": "9da44046-aca1-43f0-9869-7516d728a4d0",
   "metadata": {},
   "outputs": [
    {
     "name": "stdout",
     "output_type": "stream",
     "text": [
      "Metadata: {'description': 'Collection created from data.csv', 'hnsw:space': 'cosine'}\n"
     ]
    },
    {
     "data": {
      "application/vnd.jupyter.widget-view+json": {
       "model_id": "1b8c93cd735745ebadf4e0bebe3afe35",
       "version_major": 2,
       "version_minor": 0
      },
      "text/plain": [
       "Batches:   0%|          | 0/1 [00:00<?, ?it/s]"
      ]
     },
     "metadata": {},
     "output_type": "display_data"
    },
    {
     "name": "stdout",
     "output_type": "stream",
     "text": [
      "Results:\n",
      "\n",
      "ID: 2\n",
      "Text: The mind contemplates existence.\n",
      "Every thought is a step toward wisdom.\n",
      "Similarity: 26.9621%\n",
      "Distance (cosine): 0.7303788646902971\n",
      "\n",
      "ID: 6\n",
      "Text: The journey of self-discovery is endless.\n",
      "Each reflection deepens our knowledge.\n",
      "Similarity: 22.707%\n",
      "Distance (cosine): 0.7729304372627932\n"
     ]
    }
   ],
   "source": [
    "results = db_manager.find_nearby_texts(\n",
    "    text=\"ai\",\n",
    "    collection_name=\"my_collection\",\n",
    "    k=2,\n",
    ")\n",
    "\n",
    "print(\"Results:\")\n",
    "for item in results:\n",
    "    print(f\"\\nID: {item['id']}\")\n",
    "    print(f\"Text: {item['text']}\")\n",
    "    print(f\"Similarity: {item['similarity']}%\")\n",
    "    print(f\"Distance ({item['metric']}): {item['raw_distance']}\")"
   ]
  },
  {
   "cell_type": "code",
   "execution_count": null,
   "id": "9a994ef3-e69a-4932-af8d-7c797ee5d467",
   "metadata": {},
   "outputs": [],
   "source": []
  },
  {
   "cell_type": "code",
   "execution_count": 28,
   "id": "8feed371-834b-47f0-9426-3c0ca52d387f",
   "metadata": {},
   "outputs": [
    {
     "name": "stdout",
     "output_type": "stream",
     "text": [
      "Metadata: {'description': 'Collection created from data.csv', 'hnsw:space': 'cosine'}\n"
     ]
    },
    {
     "data": {
      "application/vnd.jupyter.widget-view+json": {
       "model_id": "1391c9c23c4442df8ad1ee3a34e25163",
       "version_major": 2,
       "version_minor": 0
      },
      "text/plain": [
       "Batches:   0%|          | 0/1 [00:00<?, ?it/s]"
      ]
     },
     "metadata": {},
     "output_type": "display_data"
    },
    {
     "name": "stdout",
     "output_type": "stream",
     "text": [
      "Results:\n"
     ]
    }
   ],
   "source": [
    "results = db_manager.find_nearby_texts(\n",
    "    text=\"ai\",\n",
    "    collection_name=\"my_collection\",\n",
    "    k=2,\n",
    "    search_string=\"Artificial intelligence\"\n",
    ")\n",
    "\n",
    "print(\"Results:\")\n",
    "for item in results:\n",
    "    print(f\"\\nID: {item['id']}\")\n",
    "    print(f\"Text: {item['text']}\")\n",
    "    print(f\"Similarity: {item['similarity']}%\")\n",
    "    print(f\"Distance ({item['metric']}): {item['raw_distance']}\")"
   ]
  },
  {
   "cell_type": "code",
   "execution_count": null,
   "id": "caf9b946-6e74-42c1-a8c9-00db8eeaf3cf",
   "metadata": {},
   "outputs": [],
   "source": []
  },
  {
   "cell_type": "code",
   "execution_count": null,
   "id": "0767c63e-35a0-4e30-a450-ae2c9f3d5d88",
   "metadata": {},
   "outputs": [],
   "source": []
  },
  {
   "cell_type": "markdown",
   "id": "f33f588e-7266-44c8-bff7-c17a455a4afb",
   "metadata": {},
   "source": [
    "## 7. Fetching Texts by IDs\n",
    "\n",
    "Retrieve text entries for a list of IDs:"
   ]
  },
  {
   "cell_type": "code",
   "execution_count": 29,
   "id": "d632fc72-1f31-48a7-8cc7-64642e07334e",
   "metadata": {},
   "outputs": [
    {
     "name": "stdout",
     "output_type": "stream",
     "text": [
      "Texts: {'1': 'Philosophy is the art of questioning.\\r\\nIt challenges our understanding of life.', '2': 'The mind contemplates existence.\\r\\nEvery thought is a step toward wisdom.', '3': 'Ancient sages pondered on virtue.\\r\\nTheir insights still echo today.'}\n"
     ]
    }
   ],
   "source": [
    "ids_to_fetch = [\"1\", \"2\", \"3\"]\n",
    "texts = db_manager.get_by_ids(ids_to_fetch, \"my_collection\")\n",
    "print(\"Texts:\", texts)"
   ]
  },
  {
   "cell_type": "code",
   "execution_count": null,
   "id": "fa789798-b571-4e93-9a01-c6e92f7f54dc",
   "metadata": {},
   "outputs": [],
   "source": []
  },
  {
   "cell_type": "code",
   "execution_count": 30,
   "id": "fd4ee7a1-b330-41d9-9497-466df4e4d06d",
   "metadata": {},
   "outputs": [
    {
     "name": "stdout",
     "output_type": "stream",
     "text": [
      "Texts: {'10': 'The inquiry into existence never ceases.\\r\\nEvery question opens a door to deeper thought.'}\n"
     ]
    }
   ],
   "source": [
    "ids_to_fetch = [\"10\"]\n",
    "texts = db_manager.get_by_ids(ids_to_fetch, \"my_collection\")\n",
    "print(\"Texts:\", texts)"
   ]
  },
  {
   "cell_type": "code",
   "execution_count": null,
   "id": "5ecdf03a-a87d-4d25-b159-371f3eed1267",
   "metadata": {},
   "outputs": [],
   "source": []
  },
  {
   "cell_type": "code",
   "execution_count": null,
   "id": "fa683adc-0a5b-4641-a9f3-19d2663b9e2e",
   "metadata": {},
   "outputs": [],
   "source": []
  },
  {
   "cell_type": "markdown",
   "id": "08e19f5b-41fd-4ae8-bad1-1fb7592c666e",
   "metadata": {},
   "source": [
    "## 8. Deleting a Row / Collection\n",
    "\n",
    "Remove an entry from the collection by its ID:"
   ]
  },
  {
   "cell_type": "code",
   "execution_count": 31,
   "id": "9b17a44f-4373-436c-b91b-10d874dcd4d6",
   "metadata": {},
   "outputs": [
    {
     "name": "stderr",
     "output_type": "stream",
     "text": [
      "2025-02-15 14:03:52,886 - INFO - Successfully deleted entry with ID 1\n"
     ]
    },
    {
     "data": {
      "text/plain": [
       "True"
      ]
     },
     "execution_count": 31,
     "metadata": {},
     "output_type": "execute_result"
    }
   ],
   "source": [
    "db_manager.delete_entry_by_id(\n",
    "    id_=\"1\",\n",
    "    collection_name=\"my_collection\"\n",
    ")"
   ]
  },
  {
   "cell_type": "code",
   "execution_count": null,
   "id": "504a7669-9fc8-44ee-92b5-7fa4f517b498",
   "metadata": {},
   "outputs": [],
   "source": []
  },
  {
   "cell_type": "markdown",
   "id": "2c59f183-1fc0-4f36-92dd-7093bb70d2a2",
   "metadata": {},
   "source": [
    "Delete an entire collection. **Note:** You must pass `confirmation=\"yes\"` to proceed with deletion."
   ]
  },
  {
   "cell_type": "code",
   "execution_count": 33,
   "id": "e424ee69-7369-403c-a4d1-cd253d1644fd",
   "metadata": {},
   "outputs": [
    {
     "name": "stderr",
     "output_type": "stream",
     "text": [
      "2025-02-15 14:04:03,198 - INFO - Successfully deleted collection 'my_collection'\n"
     ]
    },
    {
     "data": {
      "text/plain": [
       "True"
      ]
     },
     "execution_count": 33,
     "metadata": {},
     "output_type": "execute_result"
    }
   ],
   "source": [
    "db_manager.delete_collection(\n",
    "    collection_name=\"my_collection\",\n",
    "    confirmation=\"yes\"\n",
    ")"
   ]
  },
  {
   "cell_type": "code",
   "execution_count": null,
   "id": "4f4c1eb9-9a22-4b76-b8ce-d4f9c949214f",
   "metadata": {},
   "outputs": [],
   "source": []
  },
  {
   "cell_type": "code",
   "execution_count": null,
   "id": "6c850507-7fc4-48de-b4f0-5f0302dafa46",
   "metadata": {},
   "outputs": [],
   "source": []
  },
  {
   "cell_type": "code",
   "execution_count": null,
   "id": "16addf48-f54f-4ed3-97f0-28fb420a7cf1",
   "metadata": {},
   "outputs": [],
   "source": []
  },
  {
   "cell_type": "code",
   "execution_count": null,
   "id": "164b215a-7d1f-4784-abd2-924f7c735f97",
   "metadata": {},
   "outputs": [],
   "source": []
  },
  {
   "cell_type": "code",
   "execution_count": null,
   "id": "13bce216-62b7-4639-a01c-dab1e4b89656",
   "metadata": {},
   "outputs": [],
   "source": []
  }
 ],
 "metadata": {
  "kernelspec": {
   "display_name": "Python 3 (ipykernel)",
   "language": "python",
   "name": "python3"
  },
  "language_info": {
   "codemirror_mode": {
    "name": "ipython",
    "version": 3
   },
   "file_extension": ".py",
   "mimetype": "text/x-python",
   "name": "python",
   "nbconvert_exporter": "python",
   "pygments_lexer": "ipython3",
   "version": "3.10.16"
  }
 },
 "nbformat": 4,
 "nbformat_minor": 5
}
